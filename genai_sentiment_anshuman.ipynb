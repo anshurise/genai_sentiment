{
 "cells": [
  {
   "cell_type": "markdown",
   "metadata": {},
   "source": [
    "### **Exercise: Sentiment Analysis and Key Insights Extraction from Ford Car Reviews**\n",
    "\n",
    "### **Problem Statement:**\n",
    "You have been provided with a dataset containing Ford car reviews. Your task is to use LangChain and the concepts you’ve learned to perform the following tasks:\n",
    "\n",
    "1. **Sentiment Analysis**: Analyze the sentiment of each review, categorize it as positive, neutral, or negative, and store the result.\n",
    "2. **Key Insights Extraction**: Extract key pieces of information from each review, such as the pros and cons mentioned, and the specific features the reviewer liked or disliked (e.g., vehicle performance, comfort, price).\n",
    "\n",
    "You will build a LangChain-based solution that leverages language models to automatically extract this information and provide a structured summary of the reviews. \n",
    "\n",
    "---\n",
    "### **Steps to Solve:**\n",
    "\n",
    "#### **Step 1: Load the Dataset**\n",
    "- The dataset file is named `ford_car_reviews.csv` and is sourced from Kaggle: [Edmunds Consumer Car Ratings and Reviews](https://www.kaggle.com/datasets/ankkur13/edmundsconsumer-car-ratings-and-reviews).\n",
    "- For this exercise, **limit the data to the first 25 records**. This can be achieved by using `df.head(25)` or `df.iloc[:25]` when loading the data into a DataFrame.\n",
    "\n",
    "#### **Step 2: Define the Sentiment Analysis Task**\n",
    "- Use LangChain to create a pipeline to classify the sentiment of each review.\n",
    "- Define prompts that can guide the model to evaluate the sentiment. For example:\n",
    "  - \"Given the following car review, classify the sentiment as positive, neutral, or negative.\"\n",
    "\n",
    "#### **Step 3: Key Insights Extraction**\n",
    "- Use LangChain to create a pipeline to extract pros, cons, and notable features from each review. Define prompts such as:\n",
    "  - \"What are the pros and cons of the vehicle described in the following review?\"\n",
    "  - \"What specific features of the vehicle does the reviewer like or dislike?\"\n",
    "\n",
    "#### **Step 4: Update the DataFrame with New Information**\n",
    "- Run the pipeline for each review and collect the sentiment and insights.\n",
    "- Once the analysis and extraction are complete, update the original DataFrame with additional columns to include:\n",
    "  - Sentiment (positive, neutral, negative)\n",
    "  - Pros\n",
    "  - Cons\n",
    "  - Liked_Features\n",
    "  - Disliked_Features\n",
    "\n",
    "---\n",
    "\n",
    "### **Example Output:**\n",
    "\n",
    "```json\n",
    "{\n",
    "  \"Review_Date\": \"03/07/13\",\n",
    "  \"Vehicle_Title\": \"2006 Ford Mustang Coupe\",\n",
    "  \"Review_Text\": \"With the expected arrival of our 6th child...\",\n",
    "  \"Rating\": 4.125,\n",
    "  \"Sentiment\": \"Positive\",\n",
    "  \"Pros\": \"Good driving experience, Large seating capacity, Great options\",\n",
    "  \"Cons\": \"None mentioned\",\n",
    "  \"Liked_Features\": [\"Driving experience\", \"Seating capacity\", \"Options available\"],\n",
    "  \"Disliked_Features\": []\n",
    "}\n",
    "```"
   ]
  },
  {
   "cell_type": "code",
   "execution_count": 1,
   "metadata": {},
   "outputs": [],
   "source": [
    "import pandas as pd\n",
    "from langchain import PromptTemplate, LLMChain\n",
    "from langchain.llms import OpenAI\n",
    "from transformers import pipeline\n",
    "from langchain_groq import ChatGroq"
   ]
  },
  {
   "cell_type": "code",
   "execution_count": 2,
   "metadata": {},
   "outputs": [],
   "source": [
    "df = pd.read_csv(\"ford_car_reviews.csv\", nrows=25)"
   ]
  },
  {
   "cell_type": "code",
   "execution_count": 3,
   "metadata": {},
   "outputs": [],
   "source": [
    "df.drop(\"Unnamed: 0\", axis=1, inplace=True)"
   ]
  },
  {
   "cell_type": "code",
   "execution_count": 4,
   "metadata": {},
   "outputs": [
    {
     "data": {
      "text/html": [
       "<div>\n",
       "<style scoped>\n",
       "    .dataframe tbody tr th:only-of-type {\n",
       "        vertical-align: middle;\n",
       "    }\n",
       "\n",
       "    .dataframe tbody tr th {\n",
       "        vertical-align: top;\n",
       "    }\n",
       "\n",
       "    .dataframe thead th {\n",
       "        text-align: right;\n",
       "    }\n",
       "</style>\n",
       "<table border=\"1\" class=\"dataframe\">\n",
       "  <thead>\n",
       "    <tr style=\"text-align: right;\">\n",
       "      <th></th>\n",
       "      <th>Review_Date</th>\n",
       "      <th>Author_Name</th>\n",
       "      <th>Vehicle_Title</th>\n",
       "      <th>Review_Title</th>\n",
       "      <th>Review</th>\n",
       "      <th>Rating</th>\n",
       "    </tr>\n",
       "  </thead>\n",
       "  <tbody>\n",
       "    <tr>\n",
       "      <th>0</th>\n",
       "      <td>on 06/06/18 14:19 PM (PDT)</td>\n",
       "      <td>Vicki</td>\n",
       "      <td>2006 Ford Mustang Coupe GT Premium 2dr Coupe (...</td>\n",
       "      <td>2006 Mustang GT</td>\n",
       "      <td>Doesn’t disappoint</td>\n",
       "      <td>5.0</td>\n",
       "    </tr>\n",
       "    <tr>\n",
       "      <th>1</th>\n",
       "      <td>on 08/12/17 06:06 AM (PDT)</td>\n",
       "      <td>Tom</td>\n",
       "      <td>2006 Ford Mustang Coupe V6 Standard 2dr Coupe ...</td>\n",
       "      <td>DREAM CAR</td>\n",
       "      <td>I bought mine 4/17 with 98K. Have been wantin...</td>\n",
       "      <td>3.0</td>\n",
       "    </tr>\n",
       "    <tr>\n",
       "      <th>2</th>\n",
       "      <td>on 06/15/17 05:43 AM (PDT)</td>\n",
       "      <td>Ray</td>\n",
       "      <td>2006 Ford Mustang Coupe V6 Premium 2dr Coupe (...</td>\n",
       "      <td>Great Ride</td>\n",
       "      <td>There will always be a 05-09 mustang for sale...</td>\n",
       "      <td>5.0</td>\n",
       "    </tr>\n",
       "    <tr>\n",
       "      <th>3</th>\n",
       "      <td>on 05/18/17 17:33 PM (PDT)</td>\n",
       "      <td>Don Watson</td>\n",
       "      <td>2006 Ford Mustang Coupe V6 Deluxe 2dr Coupe (4...</td>\n",
       "      <td>I have wanted a Mustang for 40 years.</td>\n",
       "      <td>I bought my car from an auction I work at ( A...</td>\n",
       "      <td>5.0</td>\n",
       "    </tr>\n",
       "    <tr>\n",
       "      <th>4</th>\n",
       "      <td>on 01/03/16 18:03 PM (PST)</td>\n",
       "      <td>One owner</td>\n",
       "      <td>2006 Ford Mustang Coupe GT Premium 2dr Coupe (...</td>\n",
       "      <td>One owner</td>\n",
       "      <td>I bought this car spankin new and i still am ...</td>\n",
       "      <td>5.0</td>\n",
       "    </tr>\n",
       "  </tbody>\n",
       "</table>\n",
       "</div>"
      ],
      "text/plain": [
       "                   Review_Date  Author_Name  \\\n",
       "0   on 06/06/18 14:19 PM (PDT)       Vicki    \n",
       "1   on 08/12/17 06:06 AM (PDT)         Tom    \n",
       "2   on 06/15/17 05:43 AM (PDT)         Ray    \n",
       "3   on 05/18/17 17:33 PM (PDT)  Don Watson    \n",
       "4   on 01/03/16 18:03 PM (PST)   One owner    \n",
       "\n",
       "                                       Vehicle_Title  \\\n",
       "0  2006 Ford Mustang Coupe GT Premium 2dr Coupe (...   \n",
       "1  2006 Ford Mustang Coupe V6 Standard 2dr Coupe ...   \n",
       "2  2006 Ford Mustang Coupe V6 Premium 2dr Coupe (...   \n",
       "3  2006 Ford Mustang Coupe V6 Deluxe 2dr Coupe (4...   \n",
       "4  2006 Ford Mustang Coupe GT Premium 2dr Coupe (...   \n",
       "\n",
       "                            Review_Title  \\\n",
       "0                        2006 Mustang GT   \n",
       "1                              DREAM CAR   \n",
       "2                             Great Ride   \n",
       "3  I have wanted a Mustang for 40 years.   \n",
       "4                              One owner   \n",
       "\n",
       "                                              Review  Rating  \n",
       "0                                 Doesn’t disappoint     5.0  \n",
       "1   I bought mine 4/17 with 98K. Have been wantin...     3.0  \n",
       "2   There will always be a 05-09 mustang for sale...     5.0  \n",
       "3   I bought my car from an auction I work at ( A...     5.0  \n",
       "4   I bought this car spankin new and i still am ...     5.0  "
      ]
     },
     "execution_count": 4,
     "metadata": {},
     "output_type": "execute_result"
    }
   ],
   "source": [
    "df.head()"
   ]
  },
  {
   "cell_type": "code",
   "execution_count": 5,
   "metadata": {},
   "outputs": [],
   "source": [
    "# Initialize the Groq LLM\n",
    "llm = ChatGroq(groq_api_key=\"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\") # Replace with your actual API key\n"
   ]
  },
  {
   "cell_type": "code",
   "execution_count": 6,
   "metadata": {},
   "outputs": [],
   "source": [
    "# Define the prompt template\n",
    "prompt_template = PromptTemplate(\n",
    "    input_variables=[\"review\"],\n",
    "    template=\"Given the following car review, classify the sentiment as positive, neutral, or negative. Just mention positive, negative or neutral.Nothing extra. \\n\\nReview: {review}\"\n",
    ")"
   ]
  },
  {
   "cell_type": "code",
   "execution_count": 7,
   "metadata": {},
   "outputs": [
    {
     "name": "stderr",
     "output_type": "stream",
     "text": [
      "C:\\Users\\shikh\\AppData\\Local\\Temp\\ipykernel_21168\\2419055736.py:2: LangChainDeprecationWarning: The class `LLMChain` was deprecated in LangChain 0.1.17 and will be removed in 1.0. Use :meth:`~RunnableSequence, e.g., `prompt | llm`` instead.\n",
      "  chain = LLMChain(llm=llm, prompt=prompt_template)\n"
     ]
    }
   ],
   "source": [
    "# Create an LLMChain\n",
    "chain = LLMChain(llm=llm, prompt=prompt_template)\n"
   ]
  },
  {
   "cell_type": "code",
   "execution_count": 8,
   "metadata": {},
   "outputs": [],
   "source": [
    "# Function to classify the sentiment of a single review\n",
    "def classify_sentiment(review):\n",
    "    try:\n",
    "        sentiment = chain.run(review)\n",
    "        return sentiment\n",
    "    except Exception as e:\n",
    "        print(f\"Error classifying sentiment for review: {review}. Error: {e}\")\n",
    "        return \"Error\"\n"
   ]
  },
  {
   "cell_type": "code",
   "execution_count": 9,
   "metadata": {},
   "outputs": [
    {
     "name": "stderr",
     "output_type": "stream",
     "text": [
      "C:\\Users\\shikh\\AppData\\Local\\Temp\\ipykernel_21168\\3420049455.py:4: LangChainDeprecationWarning: The method `Chain.run` was deprecated in langchain 0.1.0 and will be removed in 1.0. Use :meth:`~invoke` instead.\n",
      "  sentiment = chain.run(review)\n"
     ]
    }
   ],
   "source": [
    "# Apply the sentiment classification function to the 'Review' column\n",
    "df['Sentiment'] = df['Review'].apply(classify_sentiment)\n"
   ]
  },
  {
   "cell_type": "code",
   "execution_count": 10,
   "metadata": {},
   "outputs": [
    {
     "data": {
      "text/html": [
       "<div>\n",
       "<style scoped>\n",
       "    .dataframe tbody tr th:only-of-type {\n",
       "        vertical-align: middle;\n",
       "    }\n",
       "\n",
       "    .dataframe tbody tr th {\n",
       "        vertical-align: top;\n",
       "    }\n",
       "\n",
       "    .dataframe thead th {\n",
       "        text-align: right;\n",
       "    }\n",
       "</style>\n",
       "<table border=\"1\" class=\"dataframe\">\n",
       "  <thead>\n",
       "    <tr style=\"text-align: right;\">\n",
       "      <th></th>\n",
       "      <th>Review_Date</th>\n",
       "      <th>Author_Name</th>\n",
       "      <th>Vehicle_Title</th>\n",
       "      <th>Review_Title</th>\n",
       "      <th>Review</th>\n",
       "      <th>Rating</th>\n",
       "      <th>Sentiment</th>\n",
       "    </tr>\n",
       "  </thead>\n",
       "  <tbody>\n",
       "    <tr>\n",
       "      <th>0</th>\n",
       "      <td>on 06/06/18 14:19 PM (PDT)</td>\n",
       "      <td>Vicki</td>\n",
       "      <td>2006 Ford Mustang Coupe GT Premium 2dr Coupe (...</td>\n",
       "      <td>2006 Mustang GT</td>\n",
       "      <td>Doesn’t disappoint</td>\n",
       "      <td>5.0</td>\n",
       "      <td>Positive</td>\n",
       "    </tr>\n",
       "    <tr>\n",
       "      <th>1</th>\n",
       "      <td>on 08/12/17 06:06 AM (PDT)</td>\n",
       "      <td>Tom</td>\n",
       "      <td>2006 Ford Mustang Coupe V6 Standard 2dr Coupe ...</td>\n",
       "      <td>DREAM CAR</td>\n",
       "      <td>I bought mine 4/17 with 98K. Have been wantin...</td>\n",
       "      <td>3.0</td>\n",
       "      <td>Negative</td>\n",
       "    </tr>\n",
       "    <tr>\n",
       "      <th>2</th>\n",
       "      <td>on 06/15/17 05:43 AM (PDT)</td>\n",
       "      <td>Ray</td>\n",
       "      <td>2006 Ford Mustang Coupe V6 Premium 2dr Coupe (...</td>\n",
       "      <td>Great Ride</td>\n",
       "      <td>There will always be a 05-09 mustang for sale...</td>\n",
       "      <td>5.0</td>\n",
       "      <td>Positive</td>\n",
       "    </tr>\n",
       "    <tr>\n",
       "      <th>3</th>\n",
       "      <td>on 05/18/17 17:33 PM (PDT)</td>\n",
       "      <td>Don Watson</td>\n",
       "      <td>2006 Ford Mustang Coupe V6 Deluxe 2dr Coupe (4...</td>\n",
       "      <td>I have wanted a Mustang for 40 years.</td>\n",
       "      <td>I bought my car from an auction I work at ( A...</td>\n",
       "      <td>5.0</td>\n",
       "      <td>Positive</td>\n",
       "    </tr>\n",
       "    <tr>\n",
       "      <th>4</th>\n",
       "      <td>on 01/03/16 18:03 PM (PST)</td>\n",
       "      <td>One owner</td>\n",
       "      <td>2006 Ford Mustang Coupe GT Premium 2dr Coupe (...</td>\n",
       "      <td>One owner</td>\n",
       "      <td>I bought this car spankin new and i still am ...</td>\n",
       "      <td>5.0</td>\n",
       "      <td>Positive</td>\n",
       "    </tr>\n",
       "  </tbody>\n",
       "</table>\n",
       "</div>"
      ],
      "text/plain": [
       "                   Review_Date  Author_Name  \\\n",
       "0   on 06/06/18 14:19 PM (PDT)       Vicki    \n",
       "1   on 08/12/17 06:06 AM (PDT)         Tom    \n",
       "2   on 06/15/17 05:43 AM (PDT)         Ray    \n",
       "3   on 05/18/17 17:33 PM (PDT)  Don Watson    \n",
       "4   on 01/03/16 18:03 PM (PST)   One owner    \n",
       "\n",
       "                                       Vehicle_Title  \\\n",
       "0  2006 Ford Mustang Coupe GT Premium 2dr Coupe (...   \n",
       "1  2006 Ford Mustang Coupe V6 Standard 2dr Coupe ...   \n",
       "2  2006 Ford Mustang Coupe V6 Premium 2dr Coupe (...   \n",
       "3  2006 Ford Mustang Coupe V6 Deluxe 2dr Coupe (4...   \n",
       "4  2006 Ford Mustang Coupe GT Premium 2dr Coupe (...   \n",
       "\n",
       "                            Review_Title  \\\n",
       "0                        2006 Mustang GT   \n",
       "1                              DREAM CAR   \n",
       "2                             Great Ride   \n",
       "3  I have wanted a Mustang for 40 years.   \n",
       "4                              One owner   \n",
       "\n",
       "                                              Review  Rating Sentiment  \n",
       "0                                 Doesn’t disappoint     5.0  Positive  \n",
       "1   I bought mine 4/17 with 98K. Have been wantin...     3.0  Negative  \n",
       "2   There will always be a 05-09 mustang for sale...     5.0  Positive  \n",
       "3   I bought my car from an auction I work at ( A...     5.0  Positive  \n",
       "4   I bought this car spankin new and i still am ...     5.0  Positive  "
      ]
     },
     "execution_count": 10,
     "metadata": {},
     "output_type": "execute_result"
    }
   ],
   "source": [
    "# Print the DataFrame with the added 'Sentiment' column\n",
    "df.head()"
   ]
  },
  {
   "cell_type": "code",
   "execution_count": 23,
   "metadata": {},
   "outputs": [
    {
     "name": "stdout",
     "output_type": "stream",
     "text": [
      "{\n",
      "  \"Review_Date\": \" on 06/06/18 14:19 PM (PDT)\",\n",
      "  \"Author_Name\": \"Vicki \",\n",
      "  \"Vehicle_Title\": \"2006 Ford Mustang Coupe GT Premium 2dr Coupe (4.6L 8cyl 5M)\",\n",
      "  \"Review_Title\": \"2006 Mustang GT\",\n",
      "  \"Review\": \" Doesn\\u2019t disappoint\",\n",
      "  \"Rating\": 5.0,\n",
      "  \"Sentiment\": \"Positive\"\n",
      "}\n"
     ]
    }
   ],
   "source": [
    "#Converting DataFrame to JSON-like format\n",
    "result = df.to_dict(orient=\"records\")  # Convert rows to list of dictionaries\n",
    "formatted_json = json.dumps(result[0], indent=2)  # Convert the first record to JSON with indentation\n",
    "\n",
    "#Printing Final Output in the formatted JSON\n",
    "print(formatted_json)"
   ]
  },
  {
   "cell_type": "code",
   "execution_count": null,
   "metadata": {},
   "outputs": [],
   "source": []
  }
 ],
 "metadata": {
  "kernelspec": {
   "display_name": "Python 3 (ipykernel)",
   "language": "python",
   "name": "python3"
  },
  "language_info": {
   "codemirror_mode": {
    "name": "ipython",
    "version": 3
   },
   "file_extension": ".py",
   "mimetype": "text/x-python",
   "name": "python",
   "nbconvert_exporter": "python",
   "pygments_lexer": "ipython3",
   "version": "3.12.4"
  }
 },
 "nbformat": 4,
 "nbformat_minor": 4
}
